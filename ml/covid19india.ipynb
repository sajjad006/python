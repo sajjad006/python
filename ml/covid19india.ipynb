{
 "cells": [
  {
   "cell_type": "code",
   "execution_count": 1,
   "metadata": {},
   "outputs": [],
   "source": [
    "import requests\n",
    "import numpy as np\n",
    "import pandas as pd\n",
    "import matplotlib.pyplot as plt\n",
    "from sklearn.model_selection import train_test_split\n",
    "from sklearn.linear_model import LinearRegression, LogisticRegression\n",
    "from sklearn.neural_network import MLPRegressor"
   ]
  },
  {
   "cell_type": "code",
   "execution_count": 31,
   "metadata": {},
   "outputs": [],
   "source": [
    "def state_daily_data(state_code):\n",
    "    url_daily = 'https://api.covid19india.org/states_daily.json'\n",
    "    request_daily = requests.get(url_daily)\n",
    "    data_daily = request_daily.json()['states_daily']\n",
    "\n",
    "    date      = [x[\"date\"] for x in data_daily if x[\"status\"] == 'Confirmed']\n",
    "    confirmed = [x[state_code] for x in data_daily if x['status'] == 'Confirmed']\n",
    "    recovered = [x[state_code] for x in data_daily if x['status'] == 'Recovered']\n",
    "    deceased  = [x[state_code] for x in data_daily if x['status'] == 'Deceased']\n",
    "\n",
    "    return {'date': date, 'confirmed': confirmed, 'recovered': recovered, 'deceased': deceased}\n"
   ]
  },
  {
   "cell_type": "code",
   "execution_count": 32,
   "metadata": {},
   "outputs": [],
   "source": [
    "def predict_state():\n",
    "    x = state_daily_data('wb')['confirmed']\n",
    "    x = [int(a) for a in x]\n",
    "    y = list(range(1, 103))\n",
    "\n",
    "    df = pd.DataFrame()\n",
    "    df['x'] = x\n",
    "    df['y'] = y\n",
    "    df['yy'] = np.log10(df['y'])\n",
    "    \n",
    "    X_train,X_test,Y_train,Y_test=train_test_split(df[['x']], df[['y']])\n",
    "    \n",
    "    regression=LinearRegression()\n",
    "    regression.fit(X_train,Y_train)\n",
    "    \n",
    "    return regression.predict(X_test)"
   ]
  },
  {
   "cell_type": "code",
   "execution_count": 2,
   "metadata": {},
   "outputs": [],
   "source": [
    "df = pd.read_csv('country_data.csv')\n",
    "x = df[['id']]\n",
    "y = np.log10(df['totalcase'])\n",
    "# y = df['totalcase']\n",
    "X_train,X_test,Y_train,Y_test=train_test_split(x, y)"
   ]
  },
  {
   "cell_type": "code",
   "execution_count": 3,
   "metadata": {},
   "outputs": [
    {
     "data": {
      "text/plain": [
       "MLPRegressor(activation='tanh', hidden_layer_sizes=5, learning_rate_init=0.01,\n",
       "             max_iter=500, random_state=120, solver='lbfgs')"
      ]
     },
     "execution_count": 3,
     "metadata": {},
     "output_type": "execute_result"
    }
   ],
   "source": [
    "MLP_Regressor = MLPRegressor(hidden_layer_sizes=(5), activation='tanh', solver='lbfgs' ,learning_rate_init=0.01, max_iter=500,random_state=120, validation_fraction=0.1)\n",
    "MLP_Regressor.fit(X_train, Y_train)"
   ]
  },
  {
   "cell_type": "code",
   "execution_count": 4,
   "metadata": {},
   "outputs": [
    {
     "data": {
      "text/plain": [
       "0.9978084196871131"
      ]
     },
     "execution_count": 4,
     "metadata": {},
     "output_type": "execute_result"
    }
   ],
   "source": [
    "MLP_Regressor.score(X_test, Y_test)"
   ]
  },
  {
   "cell_type": "code",
   "execution_count": 5,
   "metadata": {
    "scrolled": true
   },
   "outputs": [
    {
     "data": {
      "text/plain": [
       "array([4.52323046, 1.66486847, 6.44164277, 4.85612504, 4.82723291,\n",
       "       1.70666189, 6.54584417, 4.84748497, 4.71998569, 4.87704458,\n",
       "       6.13931825, 1.64873517, 1.63063366, 6.08028084, 6.11028336,\n",
       "       4.82177165, 6.52756238, 5.15548025, 6.48298612, 6.61304947,\n",
       "       4.78327777, 6.50668609, 1.64813947, 6.29247716, 6.5974118 ,\n",
       "       4.69384355, 4.86594312, 2.05324096, 4.20658741, 5.43163309,\n",
       "       5.32198964, 5.5070769 , 5.84600423, 6.61894288, 6.24547197])"
      ]
     },
     "execution_count": 5,
     "metadata": {},
     "output_type": "execute_result"
    }
   ],
   "source": [
    "MLP_Regressor.predict(X_test)"
   ]
  },
  {
   "cell_type": "code",
   "execution_count": 11,
   "metadata": {},
   "outputs": [
    {
     "data": {
      "text/plain": [
       "array([4204849.16643653])"
      ]
     },
     "execution_count": 11,
     "metadata": {},
     "output_type": "execute_result"
    }
   ],
   "source": [
    "10**MLP_Regressor.predict([[139]])"
   ]
  },
  {
   "cell_type": "code",
   "execution_count": 10,
   "metadata": {},
   "outputs": [
    {
     "data": {
      "text/plain": [
       "id                  139\n",
       "totalcase       4679511\n",
       "newcase           80965\n",
       "deaths           315005\n",
       "newdeath           3330\n",
       "date         18-05-2020\n",
       "Name: 138, dtype: object"
      ]
     },
     "execution_count": 10,
     "metadata": {},
     "output_type": "execute_result"
    }
   ],
   "source": [
    "df.iloc[138]"
   ]
  }
 ],
 "metadata": {
  "kernelspec": {
   "display_name": "Python 3",
   "language": "python",
   "name": "python3"
  },
  "language_info": {
   "codemirror_mode": {
    "name": "ipython",
    "version": 3
   },
   "file_extension": ".py",
   "mimetype": "text/x-python",
   "name": "python",
   "nbconvert_exporter": "python",
   "pygments_lexer": "ipython3",
   "version": "3.7.3"
  }
 },
 "nbformat": 4,
 "nbformat_minor": 4
}
